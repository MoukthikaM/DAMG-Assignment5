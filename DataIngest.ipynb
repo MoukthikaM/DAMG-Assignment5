{
 "cells": [
  {
   "cell_type": "markdown",
   "id": "09e7c135-70a7-4db6-9b96-805ab2cecda0",
   "metadata": {},
   "source": [
    "## BULK - ELT"
   ]
  },
  {
   "cell_type": "markdown",
   "id": "eb3cf6b5-fd71-4929-9d9b-9d2f3bccdb4b",
   "metadata": {},
   "source": [
    "## INCREMENTAL ELT"
   ]
  },
  {
   "cell_type": "code",
   "execution_count": null,
   "id": "03aa9837-8062-4dc4-ad42-3ad970010989",
   "metadata": {},
   "outputs": [],
   "source": []
  }
 ],
 "metadata": {
  "kernelspec": {
   "display_name": "“snowpark_0110”",
   "language": "python",
   "name": "snowpark_0110"
  },
  "language_info": {
   "codemirror_mode": {
    "name": "ipython",
    "version": 3
   },
   "file_extension": ".py",
   "mimetype": "text/x-python",
   "name": "python",
   "nbconvert_exporter": "python",
   "pygments_lexer": "ipython3",
   "version": "3.8.13"
  }
 },
 "nbformat": 4,
 "nbformat_minor": 5
}
