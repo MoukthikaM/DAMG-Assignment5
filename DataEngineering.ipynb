{
 "cells": [
  {
   "cell_type": "code",
   "execution_count": 8,
   "id": "a5c3aebe-3278-4079-9897-a300af23a59a",
   "metadata": {},
   "outputs": [],
   "source": [
    "state_dict = {\n",
    "    \"connection_parameters\": {\"user\": \"moukthika97\",\n",
    "                              \"account\": \"qmb30657.us-east-1\",\n",
    "                              \"role\": \"ACCOUNTADMIN\"\n",
    "                             },\n",
    "    \"compute_parameters\" : {\"default_warehouse\": \"XSMALL_WH\",  \n",
    "                            \"task_warehouse\": \"XSMALL_WH\",  \n",
    "                            \"load_warehouse\": \"LARGE_WH\",  \n",
    "          \n",
    "                            \"fe_warehouse\": \"XXLARGE_WH\",\n",
    "                            \"train_warehouse\": \"XXLARGE_WH\",\n",
    "                            \"train_warehouse_sow\": \"XXLARGE_SNOWPARKOPT_WH\"  \n",
    "                            }\n",
    "}"
   ]
  },
  {
   "cell_type": "code",
   "execution_count": 9,
   "id": "20f74f00-145f-42db-8a19-70032de7fb23",
   "metadata": {},
   "outputs": [],
   "source": [
    "# Snowpark\n",
    "from snowflake.snowpark.session import Session\n",
    "from snowflake.snowpark import functions as F\n",
    "from snowflake.snowpark.types import *\n",
    "from snowflake.snowpark.version import VERSION\n",
    "from snowflake.snowpark.functions import pandas_udf\n",
    "\n",
    "# Pandas & json\n",
    "import pandas as pd\n",
    "import numpy as np\n",
    "import json\n",
    "\n",
    "# Plotting\n",
    "# import matplotlib as mpl\n",
    "# import matplotlib.pyplot as plt\n",
    "# import seaborn as sns\n",
    "\n",
    "# Models\n",
    "from sklearn.model_selection import train_test_split\n",
    "from sklearn.linear_model import LinearRegression\n",
    "#from sklearn.ensemble import RandomForestRegressor\n",
    "from sklearn import metrics\n",
    "\n",
    "# %matplotlib inline"
   ]
  },
  {
   "cell_type": "code",
   "execution_count": 10,
   "id": "eafe313a-3809-428a-872c-1e95d7abb61e",
   "metadata": {},
   "outputs": [],
   "source": [
    "# Read credentials\n",
    "with open('./include/creds.json') as f:\n",
    "    connection_parameters = json.load(f)    \n",
    "session = Session.builder.configs(connection_parameters).create()"
   ]
  },
  {
   "cell_type": "code",
   "execution_count": 11,
   "id": "4afc2762-604e-4bb5-9e94-4ac6786ccf81",
   "metadata": {},
   "outputs": [
    {
     "name": "stdout",
     "output_type": "stream",
     "text": [
      "Database                    : \"CUSTOMERS\"\n",
      "Schema                      : \"PUBLIC\"\n",
      "Warehouse                   : \"XSMALL_WH\"\n",
      "Role                        : \"ACCOUNTADMIN\"\n",
      "Snowpark for Python version : 0.11.0\n"
     ]
    }
   ],
   "source": [
    "snowpark_version = VERSION\n",
    "print('Database                    : {}'.format(session.get_current_database()))\n",
    "print('Schema                      : {}'.format(session.get_current_schema()))\n",
    "print('Warehouse                   : {}'.format(session.get_current_warehouse()))\n",
    "print('Role                        : {}'.format(session.get_current_role()))\n",
    "print('Snowpark for Python version : {}.{}.{}'.format(snowpark_version[0],snowpark_version[1],snowpark_version[2]))"
   ]
  },
  {
   "cell_type": "markdown",
   "id": "7700ef53-ef82-4619-a213-e06b552c677a",
   "metadata": {},
   "source": [
    "# EXTRACT FROM S3"
   ]
  },
  {
   "cell_type": "code",
   "execution_count": 12,
   "id": "813c8c80-cc28-414c-bd2b-5174f3b288fe",
   "metadata": {},
   "outputs": [],
   "source": [
    "state_dict['connection_parameters']['database'] = 'CUSTOMERS'\n",
    "state_dict['connection_parameters']['schema'] = 'PUBLIC'\n",
    "state_dict['load_stage_name']='LOAD_STAGE' \n",
    "state_dict['download_base_url']='https://s3.amazonaws.com/damgbucket/data/'\n",
    "state_dict['trips_table_name']='ecommerce'\n",
    "state_dict['load_table_name'] = 'RAW_'"
   ]
  },
  {
   "cell_type": "code",
   "execution_count": 13,
   "id": "7776e08d-8e86-44d7-8f32-4ffb255b6e51",
   "metadata": {},
   "outputs": [],
   "source": [
    "# import json\n",
    "# with open('./creds.json', 'w') as sdf:\n",
    "#     json.dump(state_dict, sdf)"
   ]
  },
  {
   "cell_type": "code",
   "execution_count": 14,
   "id": "8805d854-14a9-4e8f-b704-be100bc8a5de",
   "metadata": {},
   "outputs": [],
   "source": [
    "def reset_database(session, state_dict:dict, prestaged=False):\n",
    "    _ = session.sql('CREATE OR REPLACE DATABASE '+state_dict['connection_parameters']['database']).collect()\n",
    "    _ = session.sql('CREATE SCHEMA IF NOT EXISTS '+state_dict['connection_parameters']['schema']).collect() \n",
    "\n",
    "    if prestaged:\n",
    "        sql_cmd = 'CREATE OR REPLACE STAGE '+state_dict['load_stage_name']+\\\n",
    "                  ' url='+state_dict['connection_parameters']['download_base_url']\n",
    "        _ = session.sql(sql_cmd).collect()\n",
    "    else: \n",
    "        _ = session.sql('CREATE STAGE IF NOT EXISTS '+state_dict['load_stage_name']).collect()"
   ]
  },
  {
   "cell_type": "code",
   "execution_count": 15,
   "id": "dc767237-ce6d-423d-975b-23819730ce25",
   "metadata": {},
   "outputs": [],
   "source": [
    "reset_database(session, state_dict)"
   ]
  },
  {
   "cell_type": "code",
   "execution_count": 16,
   "id": "300e0ba1-b99e-4afd-8e39-c8891e2f14ea",
   "metadata": {},
   "outputs": [
    {
     "data": {
      "text/plain": [
       "['UserDetails.csv.zip']"
      ]
     },
     "execution_count": 16,
     "metadata": {},
     "output_type": "execute_result"
    }
   ],
   "source": [
    "import pandas as pd\n",
    "\n",
    "file_name1 = 'UserDetails.csv.zip'\n",
    "file_name2 = 'UserActivity.csv.zip'\n",
    "files_to_download = [file_name1]\n",
    "files_to_download"
   ]
  },
  {
   "cell_type": "code",
   "execution_count": 17,
   "id": "55ccc137-bcd8-41f9-a3de-3772b78448eb",
   "metadata": {},
   "outputs": [],
   "source": [
    "session.use_warehouse(state_dict['compute_parameters']['fe_warehouse'])"
   ]
  },
  {
   "cell_type": "code",
   "execution_count": 18,
   "id": "b5088e6f-7e7f-4229-900f-282e4be86e6d",
   "metadata": {},
   "outputs": [
    {
     "data": {
      "text/plain": [
       "['UserDetails.csv.zip']"
      ]
     },
     "execution_count": 18,
     "metadata": {},
     "output_type": "execute_result"
    }
   ],
   "source": [
    "schema1_download_files = list(files_to_download)\n",
    "schema1_download_files\n"
   ]
  },
  {
   "cell_type": "code",
   "execution_count": 19,
   "id": "f792c87c-4f68-4cf2-94c9-87b2c565fe64",
   "metadata": {},
   "outputs": [
    {
     "name": "stdout",
     "output_type": "stream",
     "text": [
      "Downloading and unzipping: https://s3.amazonaws.com/damgbucket/data/UserDetails.csv.zip\n"
     ]
    }
   ],
   "source": [
    "import requests\n",
    "from zipfile import ZipFile\n",
    "from io import BytesIO\n",
    "import os\n",
    "\n",
    "schema1_load_stage = state_dict['load_stage_name']+'/schema1/'\n",
    "schema1_files_to_load = list()\n",
    "\n",
    "for file_name in schema1_download_files:\n",
    "    url1 = state_dict['download_base_url']+file_name\n",
    "    print('Downloading and unzipping: '+url1)\n",
    "    \n",
    "    r = requests.get(url1)\n",
    "    file = ZipFile(BytesIO(r.content))\n",
    "    csv_file_name=file.namelist()[0]\n",
    "    file.extract(csv_file_name)\n",
    "    file.close()\n",
    "    \n",
    "#     print('Putting '+csv_file_name+' to stage: '+schema1_load_stage)\n",
    "#     session.file.put(local_file_name=csv_file_name, \n",
    "#                      stage_location=schema1_load_stage, \n",
    "#                      source_compression='NONE', \n",
    "#                      overwrite=True)\n",
    "#     schema1_files_to_load.append(csv_file_name)\n",
    "#     os.remove(csv_file_name)\n",
    "    "
   ]
  },
  {
   "cell_type": "code",
   "execution_count": 20,
   "id": "2d467d96-9093-4b0f-adb6-f37d7b7f1b99",
   "metadata": {},
   "outputs": [
    {
     "data": {
      "text/plain": [
       "['UserActivity.csv.zip']"
      ]
     },
     "execution_count": 20,
     "metadata": {},
     "output_type": "execute_result"
    }
   ],
   "source": [
    "files_to_download = [file_name2]\n",
    "files_to_download"
   ]
  },
  {
   "cell_type": "code",
   "execution_count": 21,
   "id": "436420dd-9979-41ce-bcef-4d0647276b49",
   "metadata": {},
   "outputs": [
    {
     "data": {
      "text/plain": [
       "['UserActivity.csv.zip']"
      ]
     },
     "execution_count": 21,
     "metadata": {},
     "output_type": "execute_result"
    }
   ],
   "source": [
    "schema2_download_files = list(files_to_download)\n",
    "schema2_download_files"
   ]
  },
  {
   "cell_type": "code",
   "execution_count": 22,
   "id": "9eb62d52-0839-4ef6-a4c7-818af0052f48",
   "metadata": {},
   "outputs": [
    {
     "name": "stdout",
     "output_type": "stream",
     "text": [
      "Downloading and unzipping: https://s3.amazonaws.com/damgbucket/data/UserActivity.csv.zip\n"
     ]
    }
   ],
   "source": [
    "schema2_load_stage = state_dict['load_stage_name']+'/schema2/'\n",
    "\n",
    "schema2_files_to_load = list()\n",
    "for file_name in schema2_download_files:\n",
    "    \n",
    "    url2 = state_dict['download_base_url']+file_name\n",
    "    \n",
    "    print('Downloading and unzipping: '+url2)\n",
    "    r = requests.get(url2)\n",
    "    file = ZipFile(BytesIO(r.content))\n",
    "    csv_file_name=file.namelist()[0]\n",
    "    file.extract(csv_file_name)\n",
    "    file.close()\n",
    "    \n",
    "    # print('Putting '+csv_file_name+' to stage: '+schema2_load_stage)\n",
    "    # session.file.put(local_file_name=csv_file_name, \n",
    "    #                  stage_location=schema2_load_stage, \n",
    "    #                  source_compression='NONE', \n",
    "    #                  overwrite=True)\n",
    "    # schema2_files_to_load.append(csv_file_name)\n",
    "    # os.remove(csv_file_name)\n"
   ]
  },
  {
   "cell_type": "markdown",
   "id": "f3660272-ea16-486a-91c2-126e279b86b5",
   "metadata": {},
   "source": [
    "# DATA LOADING"
   ]
  },
  {
   "cell_type": "code",
   "execution_count": 23,
   "id": "2e22c8aa-7ce2-478f-abbe-80ce0c36eb2d",
   "metadata": {},
   "outputs": [
    {
     "data": {
      "text/html": [
       "<div>\n",
       "<style scoped>\n",
       "    .dataframe tbody tr th:only-of-type {\n",
       "        vertical-align: middle;\n",
       "    }\n",
       "\n",
       "    .dataframe tbody tr th {\n",
       "        vertical-align: top;\n",
       "    }\n",
       "\n",
       "    .dataframe thead th {\n",
       "        text-align: right;\n",
       "    }\n",
       "</style>\n",
       "<table border=\"1\" class=\"dataframe\">\n",
       "  <thead>\n",
       "    <tr style=\"text-align: right;\">\n",
       "      <th></th>\n",
       "      <th>Email</th>\n",
       "      <th>Address</th>\n",
       "      <th>Avatar</th>\n",
       "    </tr>\n",
       "  </thead>\n",
       "  <tbody>\n",
       "    <tr>\n",
       "      <th>0</th>\n",
       "      <td>mstephenson@fernandez.com</td>\n",
       "      <td>835 Frank Tunnel\\nWrightmouth, MI 82180-9605</td>\n",
       "      <td>Violet</td>\n",
       "    </tr>\n",
       "    <tr>\n",
       "      <th>1</th>\n",
       "      <td>hduke@hotmail.com</td>\n",
       "      <td>4547 Archer Common\\nDiazchester, CA 06566-8576</td>\n",
       "      <td>DarkGreen</td>\n",
       "    </tr>\n",
       "    <tr>\n",
       "      <th>2</th>\n",
       "      <td>pallen@yahoo.com</td>\n",
       "      <td>24645 Valerie Unions Suite 582\\nCobbborough, D...</td>\n",
       "      <td>Bisque</td>\n",
       "    </tr>\n",
       "    <tr>\n",
       "      <th>3</th>\n",
       "      <td>riverarebecca@gmail.com</td>\n",
       "      <td>1414 David Throughway\\nPort Jason, OH 22070-1220</td>\n",
       "      <td>SaddleBrown</td>\n",
       "    </tr>\n",
       "    <tr>\n",
       "      <th>4</th>\n",
       "      <td>mstephens@davidson-herman.com</td>\n",
       "      <td>14023 Rodriguez Passage\\nPort Jacobville, PR 3...</td>\n",
       "      <td>MediumAquaMarine</td>\n",
       "    </tr>\n",
       "  </tbody>\n",
       "</table>\n",
       "</div>"
      ],
      "text/plain": [
       "                           Email  \\\n",
       "0      mstephenson@fernandez.com   \n",
       "1              hduke@hotmail.com   \n",
       "2               pallen@yahoo.com   \n",
       "3        riverarebecca@gmail.com   \n",
       "4  mstephens@davidson-herman.com   \n",
       "\n",
       "                                             Address            Avatar  \n",
       "0       835 Frank Tunnel\\nWrightmouth, MI 82180-9605            Violet  \n",
       "1     4547 Archer Common\\nDiazchester, CA 06566-8576         DarkGreen  \n",
       "2  24645 Valerie Unions Suite 582\\nCobbborough, D...            Bisque  \n",
       "3   1414 David Throughway\\nPort Jason, OH 22070-1220       SaddleBrown  \n",
       "4  14023 Rodriguez Passage\\nPort Jacobville, PR 3...  MediumAquaMarine  "
      ]
     },
     "execution_count": 23,
     "metadata": {},
     "output_type": "execute_result"
    }
   ],
   "source": [
    "user_details = pd.read_csv(\"UserDetails.csv\")\n",
    "user_details.head()"
   ]
  },
  {
   "cell_type": "code",
   "execution_count": 24,
   "id": "6ceb7570-61c4-4c3c-9285-f5a5f282fe86",
   "metadata": {},
   "outputs": [
    {
     "name": "stderr",
     "output_type": "stream",
     "text": [
      "create_temp_table is deprecated. We still respect this parameter when it is True but please consider using `table_type=\"temporary\"` instead.\n"
     ]
    },
    {
     "name": "stdout",
     "output_type": "stream",
     "text": [
      "-------------------------------------------------------------------------------------\n",
      "|\"Email\"                        |\"Address\"                       |\"Avatar\"          |\n",
      "-------------------------------------------------------------------------------------\n",
      "|mstephenson@fernandez.com      |835 Frank Tunnel                |Violet            |\n",
      "|                               |Wrightmouth, MI 82180-9605      |                  |\n",
      "|hduke@hotmail.com              |4547 Archer Common              |DarkGreen         |\n",
      "|                               |Diazchester, CA 06566-8576      |                  |\n",
      "|pallen@yahoo.com               |24645 Valerie Unions Suite 582  |Bisque            |\n",
      "|                               |Cobbborough, DC 99414-7564      |                  |\n",
      "|riverarebecca@gmail.com        |1414 David Throughway           |SaddleBrown       |\n",
      "|                               |Port Jason, OH 22070-1220       |                  |\n",
      "|mstephens@davidson-herman.com  |14023 Rodriguez Passage         |MediumAquaMarine  |\n",
      "|                               |Port Jacobville, PR 37242-1057  |                  |\n",
      "|alvareznancy@lucas.biz         |645 Martha Park Apt. 611        |FloralWhite       |\n",
      "|                               |Jeffreychester, MN 67218-7250   |                  |\n",
      "|katherine20@yahoo.com          |68388 Reyes Lights Suite 692    |DarkSlateBlue     |\n",
      "|                               |Josephbury, WV 92213-0247       |                  |\n",
      "|awatkins@yahoo.com             |Unit 6538 Box 8980              |Aqua              |\n",
      "|                               |DPO AP 09026-4941               |                  |\n",
      "|vchurch@walter-martinez.com    |860 Lee Key                     |Salmon            |\n",
      "|                               |West Debra, SD 97450-0495       |                  |\n",
      "|bonnie69@lin.biz               |PSC 2734, Box 5255              |Brown             |\n",
      "|                               |APO AA 98456-7482               |                  |\n",
      "-------------------------------------------------------------------------------------\n",
      "\n"
     ]
    }
   ],
   "source": [
    "# Create a Snowpark DF from the pandas DF\n",
    "snowdf_details = session.createDataFrame(user_details)\n",
    "snowdf_details.show()"
   ]
  },
  {
   "cell_type": "code",
   "execution_count": 25,
   "id": "ad5edb9e-ae2c-4441-93ef-07dcd2929a5a",
   "metadata": {},
   "outputs": [
    {
     "name": "stdout",
     "output_type": "stream",
     "text": [
      "-------------------------------------------------------------------------------------\n",
      "|\"Email\"                        |\"Address\"                       |\"Avatar\"          |\n",
      "-------------------------------------------------------------------------------------\n",
      "|mstephenson@fernandez.com      |835 Frank Tunnel                |Violet            |\n",
      "|                               |Wrightmouth, MI 82180-9605      |                  |\n",
      "|hduke@hotmail.com              |4547 Archer Common              |DarkGreen         |\n",
      "|                               |Diazchester, CA 06566-8576      |                  |\n",
      "|pallen@yahoo.com               |24645 Valerie Unions Suite 582  |Bisque            |\n",
      "|                               |Cobbborough, DC 99414-7564      |                  |\n",
      "|riverarebecca@gmail.com        |1414 David Throughway           |SaddleBrown       |\n",
      "|                               |Port Jason, OH 22070-1220       |                  |\n",
      "|mstephens@davidson-herman.com  |14023 Rodriguez Passage         |MediumAquaMarine  |\n",
      "|                               |Port Jacobville, PR 37242-1057  |                  |\n",
      "-------------------------------------------------------------------------------------\n",
      "\n"
     ]
    }
   ],
   "source": [
    "# Loading user details data from Snowpark DF to a Snowflake internal table\n",
    "\n",
    "snowdf_details.write.mode(\"overwrite\").saveAsTable(\"user_details_new\") \n",
    "\n",
    "session.table(\"user_details_new\").show(5)"
   ]
  },
  {
   "cell_type": "code",
   "execution_count": 26,
   "id": "0799ad30-53f7-4d01-b14d-2acf86e20a07",
   "metadata": {},
   "outputs": [
    {
     "data": {
      "text/html": [
       "<div>\n",
       "<style scoped>\n",
       "    .dataframe tbody tr th:only-of-type {\n",
       "        vertical-align: middle;\n",
       "    }\n",
       "\n",
       "    .dataframe tbody tr th {\n",
       "        vertical-align: top;\n",
       "    }\n",
       "\n",
       "    .dataframe thead th {\n",
       "        text-align: right;\n",
       "    }\n",
       "</style>\n",
       "<table border=\"1\" class=\"dataframe\">\n",
       "  <thead>\n",
       "    <tr style=\"text-align: right;\">\n",
       "      <th></th>\n",
       "      <th>Email</th>\n",
       "      <th>Avg. Session Length</th>\n",
       "      <th>Time on App</th>\n",
       "      <th>Time on Website</th>\n",
       "      <th>Length of Membership</th>\n",
       "      <th>Yearly Amount Spent</th>\n",
       "    </tr>\n",
       "  </thead>\n",
       "  <tbody>\n",
       "    <tr>\n",
       "      <th>0</th>\n",
       "      <td>mstephenson@fernandez.com</td>\n",
       "      <td>34.497268</td>\n",
       "      <td>12.655651</td>\n",
       "      <td>39.577668</td>\n",
       "      <td>4.082621</td>\n",
       "      <td>587.951054</td>\n",
       "    </tr>\n",
       "    <tr>\n",
       "      <th>1</th>\n",
       "      <td>hduke@hotmail.com</td>\n",
       "      <td>31.926272</td>\n",
       "      <td>11.109461</td>\n",
       "      <td>37.268959</td>\n",
       "      <td>2.664034</td>\n",
       "      <td>392.204933</td>\n",
       "    </tr>\n",
       "    <tr>\n",
       "      <th>2</th>\n",
       "      <td>pallen@yahoo.com</td>\n",
       "      <td>33.000915</td>\n",
       "      <td>11.330278</td>\n",
       "      <td>37.110597</td>\n",
       "      <td>4.104543</td>\n",
       "      <td>487.547505</td>\n",
       "    </tr>\n",
       "    <tr>\n",
       "      <th>3</th>\n",
       "      <td>riverarebecca@gmail.com</td>\n",
       "      <td>34.305557</td>\n",
       "      <td>13.717514</td>\n",
       "      <td>36.721283</td>\n",
       "      <td>3.120179</td>\n",
       "      <td>581.852344</td>\n",
       "    </tr>\n",
       "    <tr>\n",
       "      <th>4</th>\n",
       "      <td>mstephens@davidson-herman.com</td>\n",
       "      <td>33.330673</td>\n",
       "      <td>12.795189</td>\n",
       "      <td>37.536653</td>\n",
       "      <td>4.446308</td>\n",
       "      <td>599.406092</td>\n",
       "    </tr>\n",
       "  </tbody>\n",
       "</table>\n",
       "</div>"
      ],
      "text/plain": [
       "                           Email  Avg. Session Length  Time on App  \\\n",
       "0      mstephenson@fernandez.com            34.497268    12.655651   \n",
       "1              hduke@hotmail.com            31.926272    11.109461   \n",
       "2               pallen@yahoo.com            33.000915    11.330278   \n",
       "3        riverarebecca@gmail.com            34.305557    13.717514   \n",
       "4  mstephens@davidson-herman.com            33.330673    12.795189   \n",
       "\n",
       "   Time on Website  Length of Membership  Yearly Amount Spent  \n",
       "0        39.577668              4.082621           587.951054  \n",
       "1        37.268959              2.664034           392.204933  \n",
       "2        37.110597              4.104543           487.547505  \n",
       "3        36.721283              3.120179           581.852344  \n",
       "4        37.536653              4.446308           599.406092  "
      ]
     },
     "execution_count": 26,
     "metadata": {},
     "output_type": "execute_result"
    }
   ],
   "source": [
    "user_activity = pd.read_csv(\"UserActivity.csv\")\n",
    "user_activity.head()"
   ]
  },
  {
   "cell_type": "code",
   "execution_count": 27,
   "id": "861e2661-de84-4bef-ae22-af2eb305a6c4",
   "metadata": {},
   "outputs": [
    {
     "name": "stdout",
     "output_type": "stream",
     "text": [
      "----------------------------------------------------------------------------------------------------------------------------------------------\n",
      "|\"Email\"                        |\"Avg. Session Length\"  |\"Time on App\"  |\"Time on Website\"  |\"Length of Membership\"  |\"Yearly Amount Spent\"  |\n",
      "----------------------------------------------------------------------------------------------------------------------------------------------\n",
      "|mstephenson@fernandez.com      |34.49726773            |12.65565115    |39.57766802        |4.082620633             |587.951054             |\n",
      "|hduke@hotmail.com              |31.92627203            |11.10946073    |37.26895887        |2.664034182             |392.2049334            |\n",
      "|pallen@yahoo.com               |33.00091476            |11.33027806    |37.11059744        |4.104543202             |487.5475049            |\n",
      "|riverarebecca@gmail.com        |34.30555663            |13.71751367    |36.72128268        |3.120178783             |581.852344             |\n",
      "|mstephens@davidson-herman.com  |33.33067252            |12.79518855    |37.5366533         |4.446308318             |599.406092             |\n",
      "|alvareznancy@lucas.biz         |33.87103788            |12.02692534    |34.47687763        |5.493507201             |637.1024479            |\n",
      "|katherine20@yahoo.com          |32.0215955             |11.36634831    |36.68377615        |4.685017247             |521.5721748            |\n",
      "|awatkins@yahoo.com             |32.73914294            |12.35195897    |37.37335886        |4.434273435             |549.9041461            |\n",
      "|vchurch@walter-martinez.com    |33.9877729             |13.38623528    |37.53449734        |3.273433578             |570.200409             |\n",
      "|bonnie69@lin.biz               |31.93654862            |11.81412829    |37.14516822        |3.202806072             |427.1993849            |\n",
      "----------------------------------------------------------------------------------------------------------------------------------------------\n",
      "\n"
     ]
    }
   ],
   "source": [
    "# Create a Snowpark DF from the pandas DF\n",
    "snowdf_activity = session.createDataFrame(user_activity)\n",
    "snowdf_activity.show()"
   ]
  },
  {
   "cell_type": "code",
   "execution_count": 28,
   "id": "1f0fdd93-7915-4e64-aa52-4d4b55316e39",
   "metadata": {},
   "outputs": [
    {
     "name": "stdout",
     "output_type": "stream",
     "text": [
      "----------------------------------------------------------------------------------------------------------------------------------------------\n",
      "|\"Email\"                        |\"Avg. Session Length\"  |\"Time on App\"  |\"Time on Website\"  |\"Length of Membership\"  |\"Yearly Amount Spent\"  |\n",
      "----------------------------------------------------------------------------------------------------------------------------------------------\n",
      "|mstephenson@fernandez.com      |34.49726773            |12.65565115    |39.57766802        |4.082620633             |587.951054             |\n",
      "|hduke@hotmail.com              |31.92627203            |11.10946073    |37.26895887        |2.664034182             |392.2049334            |\n",
      "|pallen@yahoo.com               |33.00091476            |11.33027806    |37.11059744        |4.104543202             |487.5475049            |\n",
      "|riverarebecca@gmail.com        |34.30555663            |13.71751367    |36.72128268        |3.120178783             |581.852344             |\n",
      "|mstephens@davidson-herman.com  |33.33067252            |12.79518855    |37.5366533         |4.446308318             |599.406092             |\n",
      "----------------------------------------------------------------------------------------------------------------------------------------------\n",
      "\n"
     ]
    }
   ],
   "source": [
    "# Loading user activity data from Snowpark DF to a Snowflake internal table\n",
    "\n",
    "snowdf_activity.write.mode(\"overwrite\").saveAsTable(\"user_activity_new\") \n",
    "\n",
    "session.table(\"user_activity_new\").limit(5).show(5)"
   ]
  },
  {
   "cell_type": "code",
   "execution_count": 29,
   "id": "a7638584-f23f-446a-b343-6a1d4fbee7fc",
   "metadata": {},
   "outputs": [
    {
     "name": "stdout",
     "output_type": "stream",
     "text": [
      "'UD_df' local dataframe created. Number of records: 500 \n"
     ]
    }
   ],
   "source": [
    "# Create a pandas data frame from the Snowflake table\n",
    "UD_df = session.table('user_details_new').toPandas() \n",
    "\n",
    "print(f\"'UD_df' local dataframe created. Number of records: {len(UD_df)} \")"
   ]
  },
  {
   "cell_type": "code",
   "execution_count": 30,
   "id": "f8830767-a2f6-4bcb-8554-54a43c19179b",
   "metadata": {},
   "outputs": [
    {
     "name": "stdout",
     "output_type": "stream",
     "text": [
      "'UA_df' local dataframe created. Number of records: 500 \n"
     ]
    }
   ],
   "source": [
    "# Create a pandas data frame from the Snowflake table\n",
    "UA_df = session.table('user_activity_new').toPandas() \n",
    "\n",
    "print(f\"'UA_df' local dataframe created. Number of records: {len(UA_df)} \")"
   ]
  },
  {
   "cell_type": "code",
   "execution_count": 31,
   "id": "78ceb9f8-d630-4513-acb9-27bf489bed9c",
   "metadata": {},
   "outputs": [
    {
     "data": {
      "text/html": [
       "<div>\n",
       "<style scoped>\n",
       "    .dataframe tbody tr th:only-of-type {\n",
       "        vertical-align: middle;\n",
       "    }\n",
       "\n",
       "    .dataframe tbody tr th {\n",
       "        vertical-align: top;\n",
       "    }\n",
       "\n",
       "    .dataframe thead th {\n",
       "        text-align: right;\n",
       "    }\n",
       "</style>\n",
       "<table border=\"1\" class=\"dataframe\">\n",
       "  <thead>\n",
       "    <tr style=\"text-align: right;\">\n",
       "      <th></th>\n",
       "      <th>Email</th>\n",
       "      <th>Address</th>\n",
       "      <th>Avatar</th>\n",
       "      <th>Email</th>\n",
       "      <th>Avg. Session Length</th>\n",
       "      <th>Time on App</th>\n",
       "      <th>Time on Website</th>\n",
       "      <th>Length of Membership</th>\n",
       "      <th>Yearly Amount Spent</th>\n",
       "    </tr>\n",
       "  </thead>\n",
       "  <tbody>\n",
       "    <tr>\n",
       "      <th>0</th>\n",
       "      <td>mstephenson@fernandez.com</td>\n",
       "      <td>835 Frank Tunnel\\nWrightmouth, MI 82180-9605</td>\n",
       "      <td>Violet</td>\n",
       "      <td>mstephenson@fernandez.com</td>\n",
       "      <td>34.497268</td>\n",
       "      <td>12.655651</td>\n",
       "      <td>39.577668</td>\n",
       "      <td>4.082621</td>\n",
       "      <td>587.951054</td>\n",
       "    </tr>\n",
       "    <tr>\n",
       "      <th>1</th>\n",
       "      <td>hduke@hotmail.com</td>\n",
       "      <td>4547 Archer Common\\nDiazchester, CA 06566-8576</td>\n",
       "      <td>DarkGreen</td>\n",
       "      <td>hduke@hotmail.com</td>\n",
       "      <td>31.926272</td>\n",
       "      <td>11.109461</td>\n",
       "      <td>37.268959</td>\n",
       "      <td>2.664034</td>\n",
       "      <td>392.204933</td>\n",
       "    </tr>\n",
       "    <tr>\n",
       "      <th>2</th>\n",
       "      <td>pallen@yahoo.com</td>\n",
       "      <td>24645 Valerie Unions Suite 582\\nCobbborough, D...</td>\n",
       "      <td>Bisque</td>\n",
       "      <td>pallen@yahoo.com</td>\n",
       "      <td>33.000915</td>\n",
       "      <td>11.330278</td>\n",
       "      <td>37.110597</td>\n",
       "      <td>4.104543</td>\n",
       "      <td>487.547505</td>\n",
       "    </tr>\n",
       "    <tr>\n",
       "      <th>3</th>\n",
       "      <td>riverarebecca@gmail.com</td>\n",
       "      <td>1414 David Throughway\\nPort Jason, OH 22070-1220</td>\n",
       "      <td>SaddleBrown</td>\n",
       "      <td>riverarebecca@gmail.com</td>\n",
       "      <td>34.305557</td>\n",
       "      <td>13.717514</td>\n",
       "      <td>36.721283</td>\n",
       "      <td>3.120179</td>\n",
       "      <td>581.852344</td>\n",
       "    </tr>\n",
       "    <tr>\n",
       "      <th>4</th>\n",
       "      <td>mstephens@davidson-herman.com</td>\n",
       "      <td>14023 Rodriguez Passage\\nPort Jacobville, PR 3...</td>\n",
       "      <td>MediumAquaMarine</td>\n",
       "      <td>mstephens@davidson-herman.com</td>\n",
       "      <td>33.330673</td>\n",
       "      <td>12.795189</td>\n",
       "      <td>37.536653</td>\n",
       "      <td>4.446308</td>\n",
       "      <td>599.406092</td>\n",
       "    </tr>\n",
       "    <tr>\n",
       "      <th>...</th>\n",
       "      <td>...</td>\n",
       "      <td>...</td>\n",
       "      <td>...</td>\n",
       "      <td>...</td>\n",
       "      <td>...</td>\n",
       "      <td>...</td>\n",
       "      <td>...</td>\n",
       "      <td>...</td>\n",
       "      <td>...</td>\n",
       "    </tr>\n",
       "    <tr>\n",
       "      <th>495</th>\n",
       "      <td>lewisjessica@craig-evans.com</td>\n",
       "      <td>4483 Jones Motorway Suite 872\\nLake Jamiefurt,...</td>\n",
       "      <td>Tan</td>\n",
       "      <td>lewisjessica@craig-evans.com</td>\n",
       "      <td>33.237660</td>\n",
       "      <td>13.566160</td>\n",
       "      <td>36.417985</td>\n",
       "      <td>3.746573</td>\n",
       "      <td>573.847438</td>\n",
       "    </tr>\n",
       "    <tr>\n",
       "      <th>496</th>\n",
       "      <td>katrina56@gmail.com</td>\n",
       "      <td>172 Owen Divide Suite 497\\nWest Richard, CA 19320</td>\n",
       "      <td>PaleVioletRed</td>\n",
       "      <td>katrina56@gmail.com</td>\n",
       "      <td>34.702529</td>\n",
       "      <td>11.695736</td>\n",
       "      <td>37.190268</td>\n",
       "      <td>3.576526</td>\n",
       "      <td>529.049004</td>\n",
       "    </tr>\n",
       "    <tr>\n",
       "      <th>497</th>\n",
       "      <td>dale88@hotmail.com</td>\n",
       "      <td>0787 Andrews Ranch Apt. 633\\nSouth Chadburgh, ...</td>\n",
       "      <td>Cornsilk</td>\n",
       "      <td>dale88@hotmail.com</td>\n",
       "      <td>32.646777</td>\n",
       "      <td>11.499409</td>\n",
       "      <td>38.332576</td>\n",
       "      <td>4.958264</td>\n",
       "      <td>551.620146</td>\n",
       "    </tr>\n",
       "    <tr>\n",
       "      <th>498</th>\n",
       "      <td>cwilson@hotmail.com</td>\n",
       "      <td>680 Jennifer Lodge Apt. 808\\nBrendachester, TX...</td>\n",
       "      <td>Teal</td>\n",
       "      <td>cwilson@hotmail.com</td>\n",
       "      <td>33.322501</td>\n",
       "      <td>12.391423</td>\n",
       "      <td>36.840086</td>\n",
       "      <td>2.336485</td>\n",
       "      <td>456.469510</td>\n",
       "    </tr>\n",
       "    <tr>\n",
       "      <th>499</th>\n",
       "      <td>hannahwilson@davidson.com</td>\n",
       "      <td>49791 Rachel Heights Apt. 898\\nEast Drewboroug...</td>\n",
       "      <td>DarkMagenta</td>\n",
       "      <td>hannahwilson@davidson.com</td>\n",
       "      <td>33.715981</td>\n",
       "      <td>12.418808</td>\n",
       "      <td>35.771016</td>\n",
       "      <td>2.735160</td>\n",
       "      <td>497.778642</td>\n",
       "    </tr>\n",
       "  </tbody>\n",
       "</table>\n",
       "<p>500 rows × 9 columns</p>\n",
       "</div>"
      ],
      "text/plain": [
       "                             Email  \\\n",
       "0        mstephenson@fernandez.com   \n",
       "1                hduke@hotmail.com   \n",
       "2                 pallen@yahoo.com   \n",
       "3          riverarebecca@gmail.com   \n",
       "4    mstephens@davidson-herman.com   \n",
       "..                             ...   \n",
       "495   lewisjessica@craig-evans.com   \n",
       "496            katrina56@gmail.com   \n",
       "497             dale88@hotmail.com   \n",
       "498            cwilson@hotmail.com   \n",
       "499      hannahwilson@davidson.com   \n",
       "\n",
       "                                               Address            Avatar  \\\n",
       "0         835 Frank Tunnel\\nWrightmouth, MI 82180-9605            Violet   \n",
       "1       4547 Archer Common\\nDiazchester, CA 06566-8576         DarkGreen   \n",
       "2    24645 Valerie Unions Suite 582\\nCobbborough, D...            Bisque   \n",
       "3     1414 David Throughway\\nPort Jason, OH 22070-1220       SaddleBrown   \n",
       "4    14023 Rodriguez Passage\\nPort Jacobville, PR 3...  MediumAquaMarine   \n",
       "..                                                 ...               ...   \n",
       "495  4483 Jones Motorway Suite 872\\nLake Jamiefurt,...               Tan   \n",
       "496  172 Owen Divide Suite 497\\nWest Richard, CA 19320     PaleVioletRed   \n",
       "497  0787 Andrews Ranch Apt. 633\\nSouth Chadburgh, ...          Cornsilk   \n",
       "498  680 Jennifer Lodge Apt. 808\\nBrendachester, TX...              Teal   \n",
       "499  49791 Rachel Heights Apt. 898\\nEast Drewboroug...       DarkMagenta   \n",
       "\n",
       "                             Email  Avg. Session Length  Time on App  \\\n",
       "0        mstephenson@fernandez.com            34.497268    12.655651   \n",
       "1                hduke@hotmail.com            31.926272    11.109461   \n",
       "2                 pallen@yahoo.com            33.000915    11.330278   \n",
       "3          riverarebecca@gmail.com            34.305557    13.717514   \n",
       "4    mstephens@davidson-herman.com            33.330673    12.795189   \n",
       "..                             ...                  ...          ...   \n",
       "495   lewisjessica@craig-evans.com            33.237660    13.566160   \n",
       "496            katrina56@gmail.com            34.702529    11.695736   \n",
       "497             dale88@hotmail.com            32.646777    11.499409   \n",
       "498            cwilson@hotmail.com            33.322501    12.391423   \n",
       "499      hannahwilson@davidson.com            33.715981    12.418808   \n",
       "\n",
       "     Time on Website  Length of Membership  Yearly Amount Spent  \n",
       "0          39.577668              4.082621           587.951054  \n",
       "1          37.268959              2.664034           392.204933  \n",
       "2          37.110597              4.104543           487.547505  \n",
       "3          36.721283              3.120179           581.852344  \n",
       "4          37.536653              4.446308           599.406092  \n",
       "..               ...                   ...                  ...  \n",
       "495        36.417985              3.746573           573.847438  \n",
       "496        37.190268              3.576526           529.049004  \n",
       "497        38.332576              4.958264           551.620146  \n",
       "498        36.840086              2.336485           456.469510  \n",
       "499        35.771016              2.735160           497.778642  \n",
       "\n",
       "[500 rows x 9 columns]"
      ]
     },
     "metadata": {},
     "output_type": "display_data"
    }
   ],
   "source": [
    "transformed_df = pd.concat([UD_df, UA_df], axis=1, join='inner')\n",
    "display(transformed_df)\n",
    "\n",
    "customers = pd.DataFrame(transformed_df)\n",
    "\n",
    "customers.to_csv('customers.csv')"
   ]
  },
  {
   "cell_type": "code",
   "execution_count": 32,
   "id": "66d2c8ad-f14c-4451-b48e-4ddb311ce6ee",
   "metadata": {},
   "outputs": [],
   "source": [
    "customers = pd.read_csv('customers.csv')\n",
    "\n",
    "snowdf_cust = session.createDataFrame(customers)\n",
    "\n",
    "snowdf_cust.drop(\"Unnamed: 0\",\"Email.1\").write.mode(\"overwrite\").saveAsTable(\"customers\")\n"
   ]
  },
  {
   "cell_type": "code",
   "execution_count": 33,
   "id": "3f2d1ed7-d25e-4c4f-a6ed-52c10467ad31",
   "metadata": {},
   "outputs": [],
   "source": [
    "snowdf_cust.write.mode(\"overwrite\").saveAsTable(\"customers\") "
   ]
  },
  {
   "cell_type": "code",
   "execution_count": null,
   "id": "41d46bbc-4283-479c-bea6-4f9ea6625673",
   "metadata": {},
   "outputs": [],
   "source": []
  },
  {
   "cell_type": "code",
   "execution_count": null,
   "id": "8cac0610-dc89-4283-95b0-4e7f13524b09",
   "metadata": {},
   "outputs": [],
   "source": []
  }
 ],
 "metadata": {
  "kernelspec": {
   "display_name": "“snowpark_0110”",
   "language": "python",
   "name": "snowpark_0110"
  },
  "language_info": {
   "codemirror_mode": {
    "name": "ipython",
    "version": 3
   },
   "file_extension": ".py",
   "mimetype": "text/x-python",
   "name": "python",
   "nbconvert_exporter": "python",
   "pygments_lexer": "ipython3",
   "version": "3.8.13"
  }
 },
 "nbformat": 4,
 "nbformat_minor": 5
}
